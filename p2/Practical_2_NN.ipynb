{
 "cells": [
  {
   "cell_type": "code",
   "execution_count": 1,
   "metadata": {
    "collapsed": false
   },
   "outputs": [
    {
     "data": {
      "text/plain": [
       "'\\nA Multilayer Perceptron implementation example using TensorFlow library.\\nThis example is using the MNIST database of handwritten digits\\n(http://yann.lecun.com/exdb/mnist/)\\n\\nAuthor: Aymeric Damien\\nProject: https://github.com/aymericdamien/TensorFlow-Examples/\\n'"
      ]
     },
     "execution_count": 1,
     "metadata": {},
     "output_type": "execute_result"
    }
   ],
   "source": [
    "'''\n",
    "A Multilayer Perceptron implementation example using TensorFlow library.\n",
    "This example is using the MNIST database of handwritten digits\n",
    "(http://yann.lecun.com/exdb/mnist/)\n",
    "\n",
    "Author: Aymeric Damien\n",
    "Project: https://github.com/aymericdamien/TensorFlow-Examples/\n",
    "'''"
   ]
  },
  {
   "cell_type": "code",
   "execution_count": 2,
   "metadata": {
    "collapsed": false
   },
   "outputs": [
    {
     "name": "stderr",
     "output_type": "stream",
     "text": [
      "//anaconda/lib/python2.7/site-packages/matplotlib/__init__.py:872: UserWarning: axes.color_cycle is deprecated and replaced with axes.prop_cycle; please use the latter.\n",
      "  warnings.warn(self.msg_depr % (key, alt_key))\n"
     ]
    }
   ],
   "source": [
    "import tensorflow as tf\n",
    "#import input_data\n",
    "import os\n",
    "import numpy as np\n",
    "import cPickle as pickle\n",
    "import util\n",
    "from sklearn.model_selection import train_test_split\n",
    "from matplotlib import pyplot as plt\n",
    "%matplotlib inline\n",
    "import seaborn as sns"
   ]
  },
  {
   "cell_type": "markdown",
   "metadata": {},
   "source": [
    "# LOAD DATA"
   ]
  },
  {
   "cell_type": "code",
   "execution_count": 30,
   "metadata": {
    "collapsed": true
   },
   "outputs": [],
   "source": [
    "# True if you don't want to use the test data and you just want to evaluate the model\n",
    "# on the training data\n",
    "testing = True"
   ]
  },
  {
   "cell_type": "code",
   "execution_count": 19,
   "metadata": {
    "collapsed": false
   },
   "outputs": [],
   "source": [
    "with open('X_train_bigram.pkl') as f:\n",
    "    X_train = pickle.load(f).todense()\n",
    "with open('t_train.pkl') as f:\n",
    "    Y_train = pickle.load(f)\n",
    "with open('X_test_bigram.pkl') as f:\n",
    "    X_test = pickle.load(f).todense()\n",
    "with open('test_ids.pkl') as f:\n",
    "    test_ids = pickle.load(f)\n",
    "    \n",
    "nclass = 1 + Y_train.max()\n",
    "Y_one_hot_train = np.eye(nclass)[Y_train]"
   ]
  },
  {
   "cell_type": "code",
   "execution_count": 31,
   "metadata": {
    "collapsed": false
   },
   "outputs": [],
   "source": [
    "if testing:\n",
    "    train_data, test_data, train_label, test_label = train_test_split(X_train, Y_one_hot_train, test_size=0.20, random_state=42)  \n",
    "else:\n",
    "    train_data = X_train\n",
    "    test_data = X_test\n",
    "    train_label=Y_one_hot_train"
   ]
  },
  {
   "cell_type": "code",
   "execution_count": 32,
   "metadata": {
    "collapsed": false
   },
   "outputs": [],
   "source": [
    "ntrain = train_data.shape[0]\n",
    "dim = train_data.shape[1]\n",
    "ntest = test_data.shape[0]"
   ]
  },
  {
   "cell_type": "code",
   "execution_count": 33,
   "metadata": {
    "collapsed": false
   },
   "outputs": [
    {
     "name": "stdout",
     "output_type": "stream",
     "text": [
      "2468 train images loaded\n",
      "618 test images loaded\n",
      "2214 dimensional input\n",
      "15 classes\n"
     ]
    }
   ],
   "source": [
    "print (\"%d train images loaded\" % (ntrain))\n",
    "print (\"%d test images loaded\" % (ntest))\n",
    "print (\"%d dimensional input\" % (dim))\n",
    "print (\"%d classes\" % (nclass))"
   ]
  },
  {
   "cell_type": "markdown",
   "metadata": {},
   "source": [
    "# DEFINE NETWORK"
   ]
  },
  {
   "cell_type": "code",
   "execution_count": 37,
   "metadata": {
    "collapsed": false
   },
   "outputs": [
    {
     "name": "stdout",
     "output_type": "stream",
     "text": [
      "Network Ready to Go!\n"
     ]
    }
   ],
   "source": [
    "tf.set_random_seed(0)\n",
    "# Parameters\n",
    "learning_rate   = 0.00001\n",
    "training_epochs = 10000\n",
    "batch_size      = ntrain\n",
    "display_step    = 200\n",
    "\n",
    "# Network Parameters\n",
    "n_hidden_1 = 50 # 1st layer num features\n",
    "n_input    = dim # data input \n",
    "n_classes  = nclass # total classes (0-9 digits)\n",
    "\n",
    "# tf Graph input\n",
    "x = tf.placeholder(\"float\", [None, n_input])\n",
    "y = tf.placeholder(\"float\", [None, n_classes])\n",
    "\n",
    "# Create model\n",
    "def multilayer_perceptron(_X, _weights, _biases):\n",
    "    layer_1 = tf.nn.relu(tf.add(tf.matmul(_X, _weights['h1']), _biases['b1'])) \n",
    "    return tf.matmul(layer_1, _weights['out']) + _biases['out']\n",
    "    \n",
    "# Store layers weight & bias\n",
    "stddev = 0.1 # <== This greatly affects accuracy!! \n",
    "weights = {\n",
    "    'h1': tf.Variable(tf.random_normal([n_input, n_hidden_1], stddev=stddev)),\n",
    "    'out': tf.Variable(tf.random_normal([n_hidden_1, n_classes], stddev=stddev))\n",
    "}\n",
    "biases = {\n",
    "    'b1': tf.Variable(tf.random_normal([n_hidden_1])),\n",
    "    'out': tf.Variable(tf.random_normal([n_classes]))\n",
    "}\n",
    "print (\"Network Ready to Go!\")"
   ]
  },
  {
   "cell_type": "markdown",
   "metadata": {},
   "source": [
    "# DEFINE FUNCTIONS"
   ]
  },
  {
   "cell_type": "code",
   "execution_count": 38,
   "metadata": {
    "collapsed": false
   },
   "outputs": [
    {
     "name": "stdout",
     "output_type": "stream",
     "text": [
      "WARNING:tensorflow:From <ipython-input-38-477da224b6d8>:13: initialize_all_variables (from tensorflow.python.ops.variables) is deprecated and will be removed after 2017-03-02.\n",
      "Instructions for updating:\n",
      "Use `tf.global_variables_initializer` instead.\n",
      "Functions ready\n"
     ]
    }
   ],
   "source": [
    "# Construct model\n",
    "pred = multilayer_perceptron(x, weights, biases)\n",
    "\n",
    "final_pred = tf.argmax(pred,1)\n",
    "\n",
    "# Define loss and optimizer\n",
    "cost = tf.reduce_mean(tf.nn.softmax_cross_entropy_with_logits(logits= pred, labels = y)) \n",
    "optm = tf.train.AdamOptimizer(learning_rate=learning_rate).minimize(cost)\n",
    "corr = tf.equal(tf.argmax(pred, 1), tf.argmax(y, 1))    \n",
    "accr = tf.reduce_mean(tf.cast(corr, \"float\"))\n",
    "\n",
    "# Initializing the variables\n",
    "init = tf.initialize_all_variables()\n",
    "print (\"Functions ready\")"
   ]
  },
  {
   "cell_type": "markdown",
   "metadata": {
    "collapsed": false
   },
   "source": [
    "# OPTIMIZE"
   ]
  },
  {
   "cell_type": "code",
   "execution_count": 39,
   "metadata": {
    "collapsed": false
   },
   "outputs": [
    {
     "name": "stdout",
     "output_type": "stream",
     "text": [
      "Epoch: 000/10000 cost: 117.527160645\n",
      " Training accuracy: 0.011\n",
      " Test accuracy: 0.011\n",
      "Epoch: 200/10000 cost: 106.654373169\n",
      " Training accuracy: 0.012\n",
      " Test accuracy: 0.011\n",
      "Epoch: 400/10000 cost: 93.398155212\n",
      " Training accuracy: 0.015\n",
      " Test accuracy: 0.011\n",
      "Epoch: 600/10000 cost: 78.892395020\n",
      " Training accuracy: 0.018\n",
      " Test accuracy: 0.015\n",
      "Epoch: 800/10000 cost: 50.290767670\n",
      " Training accuracy: 0.019\n",
      " Test accuracy: 0.008\n",
      "Epoch: 1000/10000 cost: 43.415115356\n",
      " Training accuracy: 0.021\n",
      " Test accuracy: 0.011\n",
      "Epoch: 1200/10000 cost: 38.861412048\n",
      " Training accuracy: 0.022\n",
      " Test accuracy: 0.019\n",
      "Epoch: 1400/10000 cost: 26.872074127\n",
      " Training accuracy: 0.091\n",
      " Test accuracy: 0.086\n",
      "Epoch: 1600/10000 cost: 22.414150238\n",
      " Training accuracy: 0.468\n",
      " Test accuracy: 0.437\n",
      "Epoch: 1800/10000 cost: 17.294162750\n",
      " Training accuracy: 0.486\n",
      " Test accuracy: 0.445\n",
      "Epoch: 2000/10000 cost: 14.556947708\n",
      " Training accuracy: 0.467\n",
      " Test accuracy: 0.448\n",
      "Epoch: 2200/10000 cost: 15.336621284\n",
      " Training accuracy: 0.500\n",
      " Test accuracy: 0.466\n",
      "Epoch: 2400/10000 cost: 8.232779503\n",
      " Training accuracy: 0.514\n",
      " Test accuracy: 0.487\n",
      "Epoch: 2600/10000 cost: 9.023759842\n",
      " Training accuracy: 0.528\n",
      " Test accuracy: 0.497\n",
      "Epoch: 2800/10000 cost: 9.573611259\n",
      " Training accuracy: 0.562\n",
      " Test accuracy: 0.524\n",
      "Epoch: 3000/10000 cost: 7.733669281\n",
      " Training accuracy: 0.585\n",
      " Test accuracy: 0.545\n",
      "Epoch: 3200/10000 cost: 7.866476059\n",
      " Training accuracy: 0.583\n",
      " Test accuracy: 0.555\n",
      "Epoch: 3400/10000 cost: 5.004628181\n",
      " Training accuracy: 0.588\n",
      " Test accuracy: 0.566\n",
      "Epoch: 3600/10000 cost: 5.414168835\n",
      " Training accuracy: 0.605\n",
      " Test accuracy: 0.583\n",
      "Epoch: 3800/10000 cost: 3.334463120\n",
      " Training accuracy: 0.639\n",
      " Test accuracy: 0.600\n",
      "Epoch: 4000/10000 cost: 4.429578304\n",
      " Training accuracy: 0.657\n",
      " Test accuracy: 0.629\n",
      "Epoch: 4200/10000 cost: 3.888534546\n",
      " Training accuracy: 0.669\n",
      " Test accuracy: 0.649\n",
      "Epoch: 4400/10000 cost: 2.664163828\n",
      " Training accuracy: 0.694\n",
      " Test accuracy: 0.657\n",
      "Epoch: 4600/10000 cost: 2.707022429\n",
      " Training accuracy: 0.697\n",
      " Test accuracy: 0.660\n",
      "Epoch: 4800/10000 cost: 2.393087864\n",
      " Training accuracy: 0.702\n",
      " Test accuracy: 0.663\n",
      "Epoch: 5000/10000 cost: 2.579582691\n",
      " Training accuracy: 0.722\n",
      " Test accuracy: 0.670\n",
      "Epoch: 5200/10000 cost: 2.351317883\n",
      " Training accuracy: 0.722\n",
      " Test accuracy: 0.676\n",
      "Epoch: 5400/10000 cost: 1.815124631\n",
      " Training accuracy: 0.720\n",
      " Test accuracy: 0.683\n",
      "Epoch: 5600/10000 cost: 1.663673878\n",
      " Training accuracy: 0.725\n",
      " Test accuracy: 0.681\n",
      "Epoch: 5800/10000 cost: 1.754337907\n",
      " Training accuracy: 0.731\n",
      " Test accuracy: 0.686\n",
      "Epoch: 6000/10000 cost: 1.438677549\n",
      " Training accuracy: 0.746\n",
      " Test accuracy: 0.686\n",
      "Epoch: 6200/10000 cost: 1.384407520\n",
      " Training accuracy: 0.750\n",
      " Test accuracy: 0.688\n",
      "Epoch: 6400/10000 cost: 1.273396134\n",
      " Training accuracy: 0.815\n",
      " Test accuracy: 0.780\n",
      "Epoch: 6600/10000 cost: 1.265345812\n",
      " Training accuracy: 0.826\n",
      " Test accuracy: 0.783\n",
      "Epoch: 6800/10000 cost: 1.002287865\n",
      " Training accuracy: 0.849\n",
      " Test accuracy: 0.785\n",
      "Epoch: 7000/10000 cost: 0.995707572\n",
      " Training accuracy: 0.838\n",
      " Test accuracy: 0.783\n",
      "Epoch: 7200/10000 cost: 0.842251539\n",
      " Training accuracy: 0.841\n",
      " Test accuracy: 0.788\n",
      "Epoch: 7400/10000 cost: 0.867276549\n",
      " Training accuracy: 0.876\n",
      " Test accuracy: 0.835\n",
      "Epoch: 7600/10000 cost: 0.915388465\n",
      " Training accuracy: 0.870\n",
      " Test accuracy: 0.838\n",
      "Epoch: 7800/10000 cost: 0.902645648\n",
      " Training accuracy: 0.875\n",
      " Test accuracy: 0.840\n",
      "Epoch: 8000/10000 cost: 0.782754779\n",
      " Training accuracy: 0.873\n",
      " Test accuracy: 0.840\n",
      "Epoch: 8200/10000 cost: 0.718767166\n",
      " Training accuracy: 0.874\n",
      " Test accuracy: 0.837\n",
      "Epoch: 8400/10000 cost: 0.661171019\n",
      " Training accuracy: 0.886\n",
      " Test accuracy: 0.838\n",
      "Epoch: 8600/10000 cost: 0.603261769\n",
      " Training accuracy: 0.887\n",
      " Test accuracy: 0.841\n",
      "Epoch: 8800/10000 cost: 0.625359774\n",
      " Training accuracy: 0.883\n",
      " Test accuracy: 0.841\n",
      "Epoch: 9000/10000 cost: 0.692183256\n",
      " Training accuracy: 0.874\n",
      " Test accuracy: 0.841\n",
      "Epoch: 9200/10000 cost: 0.586594701\n",
      " Training accuracy: 0.877\n",
      " Test accuracy: 0.841\n",
      "Epoch: 9400/10000 cost: 0.588497102\n",
      " Training accuracy: 0.884\n",
      " Test accuracy: 0.843\n",
      "Epoch: 9600/10000 cost: 0.545073032\n",
      " Training accuracy: 0.893\n",
      " Test accuracy: 0.845\n",
      "Epoch: 9800/10000 cost: 0.521615863\n",
      " Training accuracy: 0.892\n",
      " Test accuracy: 0.845\n",
      "Optimization Finished!\n",
      "CPU times: user 1h 19min 3s, sys: 9min 23s, total: 1h 28min 27s\n",
      "Wall time: 40min 49s\n"
     ]
    }
   ],
   "source": [
    "%%time\n",
    "# Launch the graph\n",
    "sess = tf.Session()\n",
    "sess.run(init)\n",
    "\n",
    "training_acc_list = []\n",
    "test_acc_list = []\n",
    "epoch_list = []\n",
    "\n",
    "# Training cycle\n",
    "for epoch in range(training_epochs):\n",
    "    avg_cost = 0.\n",
    "    total_batch = int(ntrain/batch_size)\n",
    "    # Loop over all batches\n",
    "    for i in range(total_batch):\n",
    "        randidx = np.random.randint(ntrain, size=batch_size)\n",
    "        batch_xs = train_data[randidx, :]\n",
    "        batch_ys = train_label[randidx, :]   \n",
    "        # Fit training using batch data\n",
    "        sess.run(optm, feed_dict={x: batch_xs, y: batch_ys})\n",
    "        # Compute average loss\n",
    "        avg_cost += sess.run(cost, \n",
    "                feed_dict={x: batch_xs, y: batch_ys})/total_batch\n",
    "        # Display logs per epoch step\n",
    "        \n",
    "        \n",
    "    train_acc = sess.run(accr, feed_dict={x: batch_xs, y: batch_ys})\n",
    "    training_acc_list.append(train_acc)\n",
    "    \n",
    "    \n",
    "    if testing:\n",
    "            test_acc = sess.run(accr, feed_dict={x: test_data, y: test_label})\n",
    "            test_acc_list.append(test_acc)\n",
    "    epoch_list.append(epoch)\n",
    "            \n",
    "    if epoch % display_step == 0:\n",
    "        print (\"Epoch: %03d/%03d cost: %.9f\" % \n",
    "               (epoch, training_epochs, avg_cost))\n",
    "        #train_acc = sess.run(accr, feed_dict={x: batch_xs, y: batch_ys})\n",
    "        print (\" Training accuracy: %.3f\" % (train_acc))\n",
    "        if testing:\n",
    "            #test_acc = sess.run(accr, feed_dict={x: test_data, y: test_label})\n",
    "            print (\" Test accuracy: %.3f\" % (test_acc))\n",
    "    if epoch == training_epochs - 1:       \n",
    "        y_pred = sess.run(final_pred, feed_dict={x: test_data})\n",
    "    \n",
    "        \n",
    "print (\"Optimization Finished!\")"
   ]
  },
  {
   "cell_type": "code",
   "execution_count": 29,
   "metadata": {
    "collapsed": false
   },
   "outputs": [],
   "source": [
    "if not testing:\n",
    "    util.write_predictions(y_pred, test_ids, 'predictions_nn_bigram_features_25kepochs_eta00002.csv')"
   ]
  },
  {
   "cell_type": "code",
   "execution_count": null,
   "metadata": {
    "collapsed": false
   },
   "outputs": [],
   "source": [
    "np.asarray(test_acc_list).max()"
   ]
  },
  {
   "cell_type": "code",
   "execution_count": 40,
   "metadata": {
    "collapsed": false
   },
   "outputs": [
    {
     "data": {
      "image/png": "[encoded data removed]",
      "text/plain": [
       "<matplotlib.figure.Figure at 0x1258d0b90>"
      ]
     },
     "metadata": {},
     "output_type": "display_data"
    }
   ],
   "source": [
    "plt.figure(figsize=(14,6))\n",
    "plt.plot(epoch_list, training_acc_list,label='training')\n",
    "plt.plot(epoch_list, test_acc_list,label='testing')\n",
    "plt.legend(loc='best')\n",
    "plt.xlabel('Epoch')\n",
    "plt.ylabel('Accuracy')\n",
    "plt.show()"
   ]
  },
  {
   "cell_type": "code",
   "execution_count": 32,
   "metadata": {
    "collapsed": false
   },
   "outputs": [
    {
     "data": {
      "text/plain": [
       "3724"
      ]
     },
     "execution_count": 32,
     "metadata": {},
     "output_type": "execute_result"
    }
   ],
   "source": [
    "len(test_ids)"
   ]
  },
  {
   "cell_type": "code",
   "execution_count": null,
   "metadata": {
    "collapsed": true
   },
   "outputs": [],
   "source": []
  }
 ],
 "metadata": {
  "anaconda-cloud": {},
  "kernelspec": {
   "display_name": "Python 2",
   "language": "python",
   "name": "python2"
  },
  "language_info": {
   "codemirror_mode": {
    "name": "ipython",
    "version": 2
   },
   "file_extension": ".py",
   "mimetype": "text/x-python",
   "name": "python",
   "nbconvert_exporter": "python",
   "pygments_lexer": "ipython2",
   "version": "2.7.11"
  }
 },
 "nbformat": 4,
 "nbformat_minor": 0
}
